{
 "cells": [
  {
   "cell_type": "markdown",
   "metadata": {},
   "source": [
    "# Game Recommendation System\n",
    "\n",
    "A system for recommending games based on review data on Steam\n",
    "\n",
    "## Exploratory Data Analysis"
   ]
  },
  {
   "cell_type": "code",
   "execution_count": 3,
   "metadata": {},
   "outputs": [],
   "source": [
    "import numpy as np\n",
    "import pandas as pd\n",
    "import json\n",
    "import gzip\n",
    "import re\n",
    "import matplotlib.pyplot as plt\n",
    "%matplotlib inline"
   ]
  },
  {
   "cell_type": "code",
   "execution_count": 9,
   "metadata": {},
   "outputs": [],
   "source": [
    "def parse_data(path):\n",
    "    \"\"\"reads the input data file in path\n",
    "    returns - a list of dictionaries\"\"\"\n",
    "    data = []\n",
    "    with gzip.open(path, \"r\") as g:\n",
    "        for l in g.readlines():\n",
    "            data.append(eval(l))\n",
    "    return data\n",
    "\n",
    "def parse_data_gen(path):\n",
    "    \"\"\"generator for reading the input\n",
    "    file\"\"\"\n",
    "    with gzip.open(path, \"r\") as g:\n",
    "        for l in g.readlines():\n",
    "            yield(eval(l))\n"
   ]
  },
  {
   "cell_type": "code",
   "execution_count": 5,
   "metadata": {},
   "outputs": [],
   "source": [
    "games = parse_data(\"data/steam_games.json.gz\")"
   ]
  },
  {
   "cell_type": "code",
   "execution_count": 10,
   "metadata": {},
   "outputs": [
    {
     "name": "stdout",
     "output_type": "stream",
     "text": [
      "{'username': 'Chaos Syren', 'product_id': '725280', 'page_order': 0, 'text': 'This would not be acceptable as an entertainment even back in the day when these graphics were all there was to be had. No effort has been made to bring the player into any story or even entertain.', 'hours': 0.1, 'recommended': True, 'products': 41, 'date': '2017-12-17', 'early_access': False, 'page': 1}\n"
     ]
    }
   ],
   "source": [
    "ratings_gen = parse_data_gen(\"data/steam_reviews.json.gz\")\n",
    "print(next(ratings_gen))    "
   ]
  },
  {
   "cell_type": "code",
   "execution_count": 17,
   "metadata": {},
   "outputs": [
    {
     "data": {
      "text/plain": [
       "{'username': 'Sneaky_Panda',\n",
       " 'product_id': '725280',\n",
       " 'page_order': 3,\n",
       " 'text': \"If you take a discount - it's not a bad horror. For their money.\",\n",
       " 'hours': 0.6,\n",
       " 'recommended': True,\n",
       " 'products': 243,\n",
       " 'date': '2017-11-27',\n",
       " 'early_access': False,\n",
       " 'page': 1}"
      ]
     },
     "execution_count": 17,
     "metadata": {},
     "output_type": "execute_result"
    }
   ],
   "source": [
    "next(ratings_gen)"
   ]
  },
  {
   "cell_type": "code",
   "execution_count": null,
   "metadata": {},
   "outputs": [],
   "source": []
  }
 ],
 "metadata": {
  "kernelspec": {
   "display_name": "python3 (recsys)",
   "language": "python",
   "name": "recsys"
  },
  "language_info": {
   "codemirror_mode": {
    "name": "ipython",
    "version": 3
   },
   "file_extension": ".py",
   "mimetype": "text/x-python",
   "name": "python",
   "nbconvert_exporter": "python",
   "pygments_lexer": "ipython3",
   "version": "3.7.3"
  },
  "toc": {
   "base_numbering": 1,
   "nav_menu": {},
   "number_sections": false,
   "sideBar": true,
   "skip_h1_title": false,
   "title_cell": "Table of Contents",
   "title_sidebar": "Contents",
   "toc_cell": false,
   "toc_position": {
    "height": "calc(100% - 180px)",
    "left": "10px",
    "top": "150px",
    "width": "250.256px"
   },
   "toc_section_display": true,
   "toc_window_display": true
  }
 },
 "nbformat": 4,
 "nbformat_minor": 2
}
